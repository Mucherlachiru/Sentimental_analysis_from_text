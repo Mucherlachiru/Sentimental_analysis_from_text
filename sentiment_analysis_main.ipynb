{
 "cells": [
  {
   "cell_type": "markdown",
   "id": "078cf849",
   "metadata": {},
   "source": [
    "### Importing required libraries"
   ]
  },
  {
   "cell_type": "code",
   "execution_count": 1,
   "id": "e5c6236c",
   "metadata": {},
   "outputs": [],
   "source": [
    "import pandas as pd\n",
    "import numpy as np\n",
    "import matplotlib.pyplot as plt\n",
    "import pickle\n",
    "import warnings\n",
    "warnings.filterwarnings(\"ignore\")\n",
    "import seaborn as sns\n",
    "import nltk"
   ]
  },
  {
   "cell_type": "code",
   "execution_count": 2,
   "id": "76230515",
   "metadata": {},
   "outputs": [],
   "source": [
    "#Reading the excel data to a variable\n",
    "data=pd.read_excel(r\"C:\\ML\\review-details.xlsx\")"
   ]
  },
  {
   "cell_type": "code",
   "execution_count": 3,
   "id": "6850e814",
   "metadata": {},
   "outputs": [],
   "source": [
    "data = data.reset_index().rename(columns={\"index\":\"Id\"})"
   ]
  },
  {
   "cell_type": "code",
   "execution_count": 4,
   "id": "24fb5f0d",
   "metadata": {},
   "outputs": [
    {
     "data": {
      "text/html": [
       "<div>\n",
       "<style scoped>\n",
       "    .dataframe tbody tr th:only-of-type {\n",
       "        vertical-align: middle;\n",
       "    }\n",
       "\n",
       "    .dataframe tbody tr th {\n",
       "        vertical-align: top;\n",
       "    }\n",
       "\n",
       "    .dataframe thead th {\n",
       "        text-align: right;\n",
       "    }\n",
       "</style>\n",
       "<table border=\"1\" class=\"dataframe\">\n",
       "  <thead>\n",
       "    <tr style=\"text-align: right;\">\n",
       "      <th></th>\n",
       "      <th>Id</th>\n",
       "      <th>report_date</th>\n",
       "      <th>online_store</th>\n",
       "      <th>upc</th>\n",
       "      <th>retailer_product_code</th>\n",
       "      <th>brand</th>\n",
       "      <th>category</th>\n",
       "      <th>sub_category</th>\n",
       "      <th>product_description</th>\n",
       "      <th>review_date</th>\n",
       "      <th>...</th>\n",
       "      <th>dimension2</th>\n",
       "      <th>dimension3</th>\n",
       "      <th>dimension4</th>\n",
       "      <th>dimension5</th>\n",
       "      <th>dimension6</th>\n",
       "      <th>dimension7</th>\n",
       "      <th>dimension8</th>\n",
       "      <th>verified_purchase</th>\n",
       "      <th>helpful_review_count</th>\n",
       "      <th>review_hash_id</th>\n",
       "    </tr>\n",
       "  </thead>\n",
       "  <tbody>\n",
       "    <tr>\n",
       "      <th>0</th>\n",
       "      <td>0</td>\n",
       "      <td>2019-01-02</td>\n",
       "      <td>FRESHAMAZON</td>\n",
       "      <td>8718114216478</td>\n",
       "      <td>B0142CI6FC</td>\n",
       "      <td>Dove Men+Care</td>\n",
       "      <td>Personal Care</td>\n",
       "      <td>Deos</td>\n",
       "      <td>Dove Men+Care Extra Fresh Anti-perspirant Deod...</td>\n",
       "      <td>2019-01-01</td>\n",
       "      <td>...</td>\n",
       "      <td>Male Anti-Perspirant Deodorant</td>\n",
       "      <td>COTC Male Anti-Perspirant Deodorant</td>\n",
       "      <td>NaN</td>\n",
       "      <td>NaN</td>\n",
       "      <td>NaN</td>\n",
       "      <td>COTC Male Anti-Perspirant Deodorant</td>\n",
       "      <td>Core of the Core</td>\n",
       "      <td>True</td>\n",
       "      <td>0</td>\n",
       "      <td>3f129b02-ea76-0323-bd59-235d97a4f83f</td>\n",
       "    </tr>\n",
       "    <tr>\n",
       "      <th>1</th>\n",
       "      <td>1</td>\n",
       "      <td>2019-01-03</td>\n",
       "      <td>FRESHAMAZON</td>\n",
       "      <td>5000184201199</td>\n",
       "      <td>B014DFNNRY</td>\n",
       "      <td>Marmite</td>\n",
       "      <td>Foods</td>\n",
       "      <td>Savoury</td>\n",
       "      <td>Marmite  Spread Yeast Extract 500g</td>\n",
       "      <td>2019-01-02</td>\n",
       "      <td>...</td>\n",
       "      <td>COTC Yeast Extract</td>\n",
       "      <td>COTC Yeast Extract</td>\n",
       "      <td>NaN</td>\n",
       "      <td>NaN</td>\n",
       "      <td>NaN</td>\n",
       "      <td>COTC Yeast Extract</td>\n",
       "      <td>Core of the Core</td>\n",
       "      <td>True</td>\n",
       "      <td>0</td>\n",
       "      <td>d7f3b9aa-e8b3-626d-683b-374e201c8315</td>\n",
       "    </tr>\n",
       "    <tr>\n",
       "      <th>2</th>\n",
       "      <td>2</td>\n",
       "      <td>2019-01-03</td>\n",
       "      <td>FRESHAMAZON</td>\n",
       "      <td>5000184201199</td>\n",
       "      <td>B014DFNNRY</td>\n",
       "      <td>Marmite</td>\n",
       "      <td>Foods</td>\n",
       "      <td>Savoury</td>\n",
       "      <td>Marmite  Spread Yeast Extract 500g</td>\n",
       "      <td>2019-01-02</td>\n",
       "      <td>...</td>\n",
       "      <td>COTC Yeast Extract</td>\n",
       "      <td>COTC Yeast Extract</td>\n",
       "      <td>NaN</td>\n",
       "      <td>NaN</td>\n",
       "      <td>NaN</td>\n",
       "      <td>COTC Yeast Extract</td>\n",
       "      <td>Core of the Core</td>\n",
       "      <td>True</td>\n",
       "      <td>0</td>\n",
       "      <td>e58a523d-0155-a366-f107-7ac6817ac3b7</td>\n",
       "    </tr>\n",
       "    <tr>\n",
       "      <th>3</th>\n",
       "      <td>3</td>\n",
       "      <td>2019-01-03</td>\n",
       "      <td>FRESHAMAZON</td>\n",
       "      <td>8712566479726</td>\n",
       "      <td>B014DFKELC</td>\n",
       "      <td>Knorr</td>\n",
       "      <td>Foods</td>\n",
       "      <td>Savoury</td>\n",
       "      <td>Knorr  Beef Stock Pot 8 x 28g</td>\n",
       "      <td>2019-01-02</td>\n",
       "      <td>...</td>\n",
       "      <td>Beef Stock/Pots/Cubes/Extract/Liquid/Concentrated</td>\n",
       "      <td>Stock Pots</td>\n",
       "      <td>NaN</td>\n",
       "      <td>NaN</td>\n",
       "      <td>NaN</td>\n",
       "      <td>Stock Pots</td>\n",
       "      <td>Core of the Core</td>\n",
       "      <td>True</td>\n",
       "      <td>0</td>\n",
       "      <td>aaa9bb87-4f99-bb89-65cb-3b400ebb45c0</td>\n",
       "    </tr>\n",
       "    <tr>\n",
       "      <th>4</th>\n",
       "      <td>4</td>\n",
       "      <td>2019-01-03</td>\n",
       "      <td>FRESHAMAZON</td>\n",
       "      <td>8717163536476</td>\n",
       "      <td>B014G37I7E</td>\n",
       "      <td>Cif</td>\n",
       "      <td>Homecare</td>\n",
       "      <td>HHC</td>\n",
       "      <td>Cif Citrus Bathroom Mousse 500ml</td>\n",
       "      <td>2019-01-02</td>\n",
       "      <td>...</td>\n",
       "      <td>Bathroom Mousse</td>\n",
       "      <td>Bathroom Mousse</td>\n",
       "      <td>NaN</td>\n",
       "      <td>NaN</td>\n",
       "      <td>NaN</td>\n",
       "      <td>NaN</td>\n",
       "      <td>Core of the Core</td>\n",
       "      <td>False</td>\n",
       "      <td>0</td>\n",
       "      <td>48c71b34-d7fe-5e90-51dd-239e153fb0ae</td>\n",
       "    </tr>\n",
       "    <tr>\n",
       "      <th>5</th>\n",
       "      <td>5</td>\n",
       "      <td>2019-01-04</td>\n",
       "      <td>AMAZONPRIMEPANTRY</td>\n",
       "      <td>5000184201199</td>\n",
       "      <td>B014DFNNRY</td>\n",
       "      <td>Marmite</td>\n",
       "      <td>Foods</td>\n",
       "      <td>Savoury</td>\n",
       "      <td>Marmite  Spread Yeast Extract 500g</td>\n",
       "      <td>2019-01-02</td>\n",
       "      <td>...</td>\n",
       "      <td>Yeast Extract</td>\n",
       "      <td>COTC Yeast Extract</td>\n",
       "      <td>NaN</td>\n",
       "      <td>NaN</td>\n",
       "      <td>NaN</td>\n",
       "      <td>COTC Yeast Extract</td>\n",
       "      <td>Core of the Core</td>\n",
       "      <td>True</td>\n",
       "      <td>0</td>\n",
       "      <td>573f07c3-5ec1-63df-bcaf-47dc8347d799</td>\n",
       "    </tr>\n",
       "    <tr>\n",
       "      <th>6</th>\n",
       "      <td>6</td>\n",
       "      <td>2019-01-04</td>\n",
       "      <td>AMAZONPRIMEPANTRY</td>\n",
       "      <td>5000184201199</td>\n",
       "      <td>B014DFNNRY</td>\n",
       "      <td>Marmite</td>\n",
       "      <td>Foods</td>\n",
       "      <td>Savoury</td>\n",
       "      <td>Marmite  Spread Yeast Extract 500g</td>\n",
       "      <td>2019-01-02</td>\n",
       "      <td>...</td>\n",
       "      <td>Yeast Extract</td>\n",
       "      <td>COTC Yeast Extract</td>\n",
       "      <td>NaN</td>\n",
       "      <td>NaN</td>\n",
       "      <td>NaN</td>\n",
       "      <td>COTC Yeast Extract</td>\n",
       "      <td>Core of the Core</td>\n",
       "      <td>True</td>\n",
       "      <td>0</td>\n",
       "      <td>3f0c3287-6197-dd68-9669-c9e6eafbf037</td>\n",
       "    </tr>\n",
       "    <tr>\n",
       "      <th>7</th>\n",
       "      <td>7</td>\n",
       "      <td>2019-01-04</td>\n",
       "      <td>AMAZONPRIMEPANTRY</td>\n",
       "      <td>8712566479726</td>\n",
       "      <td>B014DFKELC</td>\n",
       "      <td>Knorr</td>\n",
       "      <td>Foods</td>\n",
       "      <td>Savoury</td>\n",
       "      <td>Knorr  Beef Stock Pot 8 x 28g</td>\n",
       "      <td>2019-01-02</td>\n",
       "      <td>...</td>\n",
       "      <td>Beef Stock/Pots/Cubes/Extract/Liquid/Concentrated</td>\n",
       "      <td>Stock Pots</td>\n",
       "      <td>NaN</td>\n",
       "      <td>NaN</td>\n",
       "      <td>NaN</td>\n",
       "      <td>Stock Pots</td>\n",
       "      <td>Core of the Core</td>\n",
       "      <td>True</td>\n",
       "      <td>0</td>\n",
       "      <td>91df7f82-f0be-e0fb-4726-9ca54ec408d5</td>\n",
       "    </tr>\n",
       "  </tbody>\n",
       "</table>\n",
       "<p>8 rows × 33 columns</p>\n",
       "</div>"
      ],
      "text/plain": [
       "   Id report_date       online_store            upc retailer_product_code  \\\n",
       "0   0  2019-01-02        FRESHAMAZON  8718114216478            B0142CI6FC   \n",
       "1   1  2019-01-03        FRESHAMAZON  5000184201199            B014DFNNRY   \n",
       "2   2  2019-01-03        FRESHAMAZON  5000184201199            B014DFNNRY   \n",
       "3   3  2019-01-03        FRESHAMAZON  8712566479726            B014DFKELC   \n",
       "4   4  2019-01-03        FRESHAMAZON  8717163536476            B014G37I7E   \n",
       "5   5  2019-01-04  AMAZONPRIMEPANTRY  5000184201199            B014DFNNRY   \n",
       "6   6  2019-01-04  AMAZONPRIMEPANTRY  5000184201199            B014DFNNRY   \n",
       "7   7  2019-01-04  AMAZONPRIMEPANTRY  8712566479726            B014DFKELC   \n",
       "\n",
       "           brand       category sub_category  \\\n",
       "0  Dove Men+Care  Personal Care         Deos   \n",
       "1        Marmite          Foods      Savoury   \n",
       "2        Marmite          Foods      Savoury   \n",
       "3          Knorr          Foods      Savoury   \n",
       "4            Cif       Homecare          HHC   \n",
       "5        Marmite          Foods      Savoury   \n",
       "6        Marmite          Foods      Savoury   \n",
       "7          Knorr          Foods      Savoury   \n",
       "\n",
       "                                 product_description review_date  ...  \\\n",
       "0  Dove Men+Care Extra Fresh Anti-perspirant Deod...  2019-01-01  ...   \n",
       "1                 Marmite  Spread Yeast Extract 500g  2019-01-02  ...   \n",
       "2                 Marmite  Spread Yeast Extract 500g  2019-01-02  ...   \n",
       "3                      Knorr  Beef Stock Pot 8 x 28g  2019-01-02  ...   \n",
       "4                   Cif Citrus Bathroom Mousse 500ml  2019-01-02  ...   \n",
       "5                 Marmite  Spread Yeast Extract 500g  2019-01-02  ...   \n",
       "6                 Marmite  Spread Yeast Extract 500g  2019-01-02  ...   \n",
       "7                      Knorr  Beef Stock Pot 8 x 28g  2019-01-02  ...   \n",
       "\n",
       "                                          dimension2  \\\n",
       "0                     Male Anti-Perspirant Deodorant   \n",
       "1                                 COTC Yeast Extract   \n",
       "2                                 COTC Yeast Extract   \n",
       "3  Beef Stock/Pots/Cubes/Extract/Liquid/Concentrated   \n",
       "4                                    Bathroom Mousse   \n",
       "5                                      Yeast Extract   \n",
       "6                                      Yeast Extract   \n",
       "7  Beef Stock/Pots/Cubes/Extract/Liquid/Concentrated   \n",
       "\n",
       "                            dimension3 dimension4  dimension5 dimension6  \\\n",
       "0  COTC Male Anti-Perspirant Deodorant        NaN         NaN        NaN   \n",
       "1                   COTC Yeast Extract        NaN         NaN        NaN   \n",
       "2                   COTC Yeast Extract        NaN         NaN        NaN   \n",
       "3                           Stock Pots        NaN         NaN        NaN   \n",
       "4                      Bathroom Mousse        NaN         NaN        NaN   \n",
       "5                   COTC Yeast Extract        NaN         NaN        NaN   \n",
       "6                   COTC Yeast Extract        NaN         NaN        NaN   \n",
       "7                           Stock Pots        NaN         NaN        NaN   \n",
       "\n",
       "                            dimension7        dimension8  verified_purchase  \\\n",
       "0  COTC Male Anti-Perspirant Deodorant  Core of the Core               True   \n",
       "1                   COTC Yeast Extract  Core of the Core               True   \n",
       "2                   COTC Yeast Extract  Core of the Core               True   \n",
       "3                           Stock Pots  Core of the Core               True   \n",
       "4                                  NaN  Core of the Core              False   \n",
       "5                   COTC Yeast Extract  Core of the Core               True   \n",
       "6                   COTC Yeast Extract  Core of the Core               True   \n",
       "7                           Stock Pots  Core of the Core               True   \n",
       "\n",
       "  helpful_review_count                        review_hash_id  \n",
       "0                    0  3f129b02-ea76-0323-bd59-235d97a4f83f  \n",
       "1                    0  d7f3b9aa-e8b3-626d-683b-374e201c8315  \n",
       "2                    0  e58a523d-0155-a366-f107-7ac6817ac3b7  \n",
       "3                    0  aaa9bb87-4f99-bb89-65cb-3b400ebb45c0  \n",
       "4                    0  48c71b34-d7fe-5e90-51dd-239e153fb0ae  \n",
       "5                    0  573f07c3-5ec1-63df-bcaf-47dc8347d799  \n",
       "6                    0  3f0c3287-6197-dd68-9669-c9e6eafbf037  \n",
       "7                    0  91df7f82-f0be-e0fb-4726-9ca54ec408d5  \n",
       "\n",
       "[8 rows x 33 columns]"
      ]
     },
     "execution_count": 4,
     "metadata": {},
     "output_type": "execute_result"
    }
   ],
   "source": [
    "#Printing some rows of the data\n",
    "data.head(8)"
   ]
  },
  {
   "cell_type": "code",
   "execution_count": 5,
   "id": "89be4620",
   "metadata": {},
   "outputs": [
    {
     "data": {
      "text/plain": [
       "Index(['Id', 'report_date', 'online_store', 'upc', 'retailer_product_code',\n",
       "       'brand', 'category', 'sub_category', 'product_description',\n",
       "       'review_date', 'review_rating', 'review_title', 'review_text',\n",
       "       'is_competitor', 'manufacturer', 'market', 'matched_keywords',\n",
       "       'time_of_publication', 'url', 'review_type', 'parent_review',\n",
       "       'manufacturers_response', 'dimension1', 'dimension2', 'dimension3',\n",
       "       'dimension4', 'dimension5', 'dimension6', 'dimension7', 'dimension8',\n",
       "       'verified_purchase', 'helpful_review_count', 'review_hash_id'],\n",
       "      dtype='object')"
      ]
     },
     "execution_count": 5,
     "metadata": {},
     "output_type": "execute_result"
    }
   ],
   "source": [
    "data.columns"
   ]
  },
  {
   "cell_type": "code",
   "execution_count": 6,
   "id": "c66f397b",
   "metadata": {
    "scrolled": true
   },
   "outputs": [
    {
     "name": "stdout",
     "output_type": "stream",
     "text": [
      "review_rating\n",
      "5    1848\n",
      "4     319\n",
      "1     146\n",
      "3     107\n",
      "2      81\n",
      "Name: count, dtype: int64\n"
     ]
    }
   ],
   "source": [
    "#Review rating counts\n",
    "print(data[\"review_rating\"].value_counts())"
   ]
  },
  {
   "cell_type": "markdown",
   "id": "5acdc4be",
   "metadata": {},
   "source": [
    "### Representing the count of review ratings in graphical format"
   ]
  },
  {
   "cell_type": "code",
   "execution_count": 7,
   "id": "efa7072b",
   "metadata": {},
   "outputs": [
    {
     "data": {
      "text/plain": [
       "<Axes: title={'center': 'Review Ratings Count'}, xlabel='review_rating'>"
      ]
     },
     "execution_count": 7,
     "metadata": {},
     "output_type": "execute_result"
    },
    {
     "data": {
      "image/png": "[encoded data removed]",
      "text/plain": [
       "<Figure size 800x400 with 1 Axes>"
      ]
     },
     "metadata": {},
     "output_type": "display_data"
    }
   ],
   "source": [
    "plt.figure(figsize=(8,4))\n",
    "plt.title(\"Review Ratings Count\")\n",
    "ax=data[\"review_rating\"].value_counts().sort_index()\n",
    "ax.plot(kind=\"bar\")"
   ]
  },
  {
   "cell_type": "markdown",
   "id": "45881d51",
   "metadata": {},
   "source": [
    "## Basic NLP"
   ]
  },
  {
   "cell_type": "code",
   "execution_count": 8,
   "id": "10b0d22b",
   "metadata": {},
   "outputs": [
    {
     "name": "stdout",
     "output_type": "stream",
     "text": [
      "excellent\n"
     ]
    }
   ],
   "source": [
    "review_example = data['review_text'][46]\n",
    "print(review_example)"
   ]
  },
  {
   "cell_type": "code",
   "execution_count": 9,
   "id": "fb5f1f69",
   "metadata": {},
   "outputs": [
    {
     "name": "stderr",
     "output_type": "stream",
     "text": [
      "[nltk_data] Downloading package punkt to\n",
      "[nltk_data]     C:\\Users\\muche\\AppData\\Roaming\\nltk_data...\n",
      "[nltk_data]   Package punkt is already up-to-date!\n"
     ]
    },
    {
     "data": {
      "text/plain": [
       "True"
      ]
     },
     "execution_count": 9,
     "metadata": {},
     "output_type": "execute_result"
    }
   ],
   "source": [
    "nltk.download('punkt')"
   ]
  },
  {
   "cell_type": "code",
   "execution_count": 10,
   "id": "e7a70923",
   "metadata": {},
   "outputs": [
    {
     "data": {
      "text/plain": [
       "['excellent']"
      ]
     },
     "execution_count": 10,
     "metadata": {},
     "output_type": "execute_result"
    }
   ],
   "source": [
    "tokens = nltk.word_tokenize(review_example)\n",
    "tokens[:10]"
   ]
  },
  {
   "cell_type": "code",
   "execution_count": 11,
   "id": "76cfb86f",
   "metadata": {},
   "outputs": [],
   "source": [
    "from nltk.tokenize import word_tokenize"
   ]
  },
  {
   "cell_type": "code",
   "execution_count": 12,
   "id": "7d188d54",
   "metadata": {},
   "outputs": [
    {
     "name": "stderr",
     "output_type": "stream",
     "text": [
      "[nltk_data] Downloading package averaged_perceptron_tagger to\n",
      "[nltk_data]     C:\\Users\\muche\\AppData\\Roaming\\nltk_data...\n",
      "[nltk_data]   Package averaged_perceptron_tagger is already up-to-\n",
      "[nltk_data]       date!\n"
     ]
    },
    {
     "data": {
      "text/plain": [
       "True"
      ]
     },
     "execution_count": 12,
     "metadata": {},
     "output_type": "execute_result"
    }
   ],
   "source": [
    "from nltk import pos_tag\n",
    "nltk.download('averaged_perceptron_tagger')"
   ]
  },
  {
   "cell_type": "code",
   "execution_count": 13,
   "id": "0f85f40a",
   "metadata": {},
   "outputs": [
    {
     "data": {
      "text/plain": [
       "[('excellent', 'NN')]"
      ]
     },
     "execution_count": 13,
     "metadata": {},
     "output_type": "execute_result"
    }
   ],
   "source": [
    "tagged = nltk.pos_tag(tokens)\n",
    "tagged[:10]"
   ]
  },
  {
   "cell_type": "code",
   "execution_count": 14,
   "id": "3ccc90a2",
   "metadata": {},
   "outputs": [
    {
     "name": "stderr",
     "output_type": "stream",
     "text": [
      "[nltk_data] Downloading package words to\n",
      "[nltk_data]     C:\\Users\\muche\\AppData\\Roaming\\nltk_data...\n",
      "[nltk_data]   Package words is already up-to-date!\n"
     ]
    },
    {
     "data": {
      "text/plain": [
       "True"
      ]
     },
     "execution_count": 14,
     "metadata": {},
     "output_type": "execute_result"
    }
   ],
   "source": [
    "nltk.download('words')"
   ]
  },
  {
   "cell_type": "code",
   "execution_count": 15,
   "id": "92cef625",
   "metadata": {},
   "outputs": [
    {
     "name": "stdout",
     "output_type": "stream",
     "text": [
      "(S excellent/NN)\n"
     ]
    }
   ],
   "source": [
    "entities = nltk.chunk.ne_chunk(tagged)\n",
    "entities.pprint()"
   ]
  },
  {
   "cell_type": "markdown",
   "id": "9df347c7",
   "metadata": {},
   "source": [
    "## VADER Sentiment Scoring"
   ]
  },
  {
   "cell_type": "code",
   "execution_count": 16,
   "id": "ecf223c7",
   "metadata": {},
   "outputs": [
    {
     "name": "stderr",
     "output_type": "stream",
     "text": [
      "[nltk_data] Downloading package vader_lexicon to\n",
      "[nltk_data]     C:\\Users\\muche\\AppData\\Roaming\\nltk_data...\n",
      "[nltk_data]   Package vader_lexicon is already up-to-date!\n"
     ]
    },
    {
     "data": {
      "text/plain": [
       "True"
      ]
     },
     "execution_count": 16,
     "metadata": {},
     "output_type": "execute_result"
    }
   ],
   "source": [
    "nltk.download('vader_lexicon')"
   ]
  },
  {
   "cell_type": "code",
   "execution_count": 17,
   "id": "4e9f2cad",
   "metadata": {},
   "outputs": [],
   "source": [
    "from nltk.sentiment import SentimentIntensityAnalyzer\n",
    "from tqdm.notebook import tqdm\n",
    "sia = SentimentIntensityAnalyzer()"
   ]
  },
  {
   "cell_type": "markdown",
   "id": "2534a50b",
   "metadata": {},
   "source": [
    "### Polarity_scores"
   ]
  },
  {
   "cell_type": "code",
   "execution_count": 18,
   "id": "a5efd65c",
   "metadata": {},
   "outputs": [
    {
     "data": {
      "text/plain": [
       "{'neg': 0.0, 'neu': 0.328, 'pos': 0.672, 'compound': 0.6249}"
      ]
     },
     "execution_count": 18,
     "metadata": {},
     "output_type": "execute_result"
    }
   ],
   "source": [
    "sia.polarity_scores(\"This is great\")"
   ]
  },
  {
   "cell_type": "code",
   "execution_count": 19,
   "id": "50a0c530",
   "metadata": {},
   "outputs": [
    {
     "data": {
      "text/plain": [
       "{'neg': 0.506, 'neu': 0.494, 'pos': 0.0, 'compound': -0.6249}"
      ]
     },
     "execution_count": 19,
     "metadata": {},
     "output_type": "execute_result"
    }
   ],
   "source": [
    "sia.polarity_scores(\"This is the worst thing\")"
   ]
  },
  {
   "cell_type": "code",
   "execution_count": 20,
   "id": "c1301bbd",
   "metadata": {},
   "outputs": [
    {
     "data": {
      "text/plain": [
       "'As you get older, you know what you like and what is suitable for your body. I like all Dove products. Gives you that fresh all over, wide awake feeling and no dandruff or flakey skin. No smelly a/pits!'"
      ]
     },
     "execution_count": 20,
     "metadata": {},
     "output_type": "execute_result"
    }
   ],
   "source": [
    "data[\"review_text\"][0]"
   ]
  },
  {
   "cell_type": "code",
   "execution_count": 21,
   "id": "8b7fd456",
   "metadata": {},
   "outputs": [
    {
     "data": {
      "text/plain": [
       "{'neg': 0.097, 'neu': 0.703, 'pos': 0.2, 'compound': 0.5707}"
      ]
     },
     "execution_count": 21,
     "metadata": {},
     "output_type": "execute_result"
    }
   ],
   "source": [
    "sia.polarity_scores(data[\"review_text\"][0])"
   ]
  },
  {
   "cell_type": "code",
   "execution_count": 22,
   "id": "481a4687",
   "metadata": {},
   "outputs": [
    {
     "data": {
      "text/plain": [
       "'A great flavour top - up for slow cooking.'"
      ]
     },
     "execution_count": 22,
     "metadata": {},
     "output_type": "execute_result"
    }
   ],
   "source": [
    "data[\"review_text\"][3]"
   ]
  },
  {
   "cell_type": "code",
   "execution_count": 23,
   "id": "9212c213",
   "metadata": {},
   "outputs": [
    {
     "data": {
      "text/plain": [
       "{'neg': 0.0, 'neu': 0.459, 'pos': 0.541, 'compound': 0.7096}"
      ]
     },
     "execution_count": 23,
     "metadata": {},
     "output_type": "execute_result"
    }
   ],
   "source": [
    "sia.polarity_scores(data[\"review_text\"][3])"
   ]
  },
  {
   "cell_type": "code",
   "execution_count": 24,
   "id": "d153c576",
   "metadata": {},
   "outputs": [
    {
     "data": {
      "application/vnd.jupyter.widget-view+json": {
       "model_id": "eac78687ec5d4612bbac6b3722a52671",
       "version_major": 2,
       "version_minor": 0
      },
      "text/plain": [
       "  0%|          | 0/2501 [00:00<?, ?it/s]"
      ]
     },
     "metadata": {},
     "output_type": "display_data"
    }
   ],
   "source": [
    "#Polarity score for entire data set\n",
    "res={}\n",
    "for i,row in tqdm(data.iterrows(), total=len(data)):\n",
    "    text = row[\"review_text\"]\n",
    "    myId = row[\"Id\"]\n",
    "    res[myId] = sia.polarity_scores(text)"
   ]
  },
  {
   "cell_type": "code",
   "execution_count": 25,
   "id": "579f6b0b",
   "metadata": {},
   "outputs": [
    {
     "name": "stdout",
     "output_type": "stream",
     "text": [
      "{'neg': 0.0, 'neu': 0.719, 'pos': 0.281, 'compound': 0.8803}\n",
      "{'neg': 0.0, 'neu': 0.0, 'pos': 1.0, 'compound': 0.5719}\n",
      "{'neg': 0.0, 'neu': 0.459, 'pos': 0.541, 'compound': 0.7096}\n",
      "{'neg': 0.0, 'neu': 1.0, 'pos': 0.0, 'compound': 0.0}\n",
      "{'neg': 0.0, 'neu': 0.0, 'pos': 1.0, 'compound': 0.5719}\n"
     ]
    }
   ],
   "source": [
    "for i in range(1,6):\n",
    "    print(res[i])"
   ]
  },
  {
   "cell_type": "code",
   "execution_count": 26,
   "id": "707af631",
   "metadata": {},
   "outputs": [],
   "source": [
    "vaders = pd.DataFrame(res)"
   ]
  },
  {
   "cell_type": "code",
   "execution_count": 27,
   "id": "4012ed44",
   "metadata": {},
   "outputs": [
    {
     "data": {
      "text/html": [
       "<div>\n",
       "<style scoped>\n",
       "    .dataframe tbody tr th:only-of-type {\n",
       "        vertical-align: middle;\n",
       "    }\n",
       "\n",
       "    .dataframe tbody tr th {\n",
       "        vertical-align: top;\n",
       "    }\n",
       "\n",
       "    .dataframe thead th {\n",
       "        text-align: right;\n",
       "    }\n",
       "</style>\n",
       "<table border=\"1\" class=\"dataframe\">\n",
       "  <thead>\n",
       "    <tr style=\"text-align: right;\">\n",
       "      <th></th>\n",
       "      <th>0</th>\n",
       "      <th>1</th>\n",
       "      <th>2</th>\n",
       "      <th>3</th>\n",
       "      <th>4</th>\n",
       "      <th>5</th>\n",
       "      <th>6</th>\n",
       "      <th>7</th>\n",
       "      <th>8</th>\n",
       "      <th>9</th>\n",
       "      <th>...</th>\n",
       "      <th>2491</th>\n",
       "      <th>2492</th>\n",
       "      <th>2493</th>\n",
       "      <th>2494</th>\n",
       "      <th>2495</th>\n",
       "      <th>2496</th>\n",
       "      <th>2497</th>\n",
       "      <th>2498</th>\n",
       "      <th>2499</th>\n",
       "      <th>2500</th>\n",
       "    </tr>\n",
       "  </thead>\n",
       "  <tbody>\n",
       "    <tr>\n",
       "      <th>neg</th>\n",
       "      <td>0.0970</td>\n",
       "      <td>0.0000</td>\n",
       "      <td>0.0000</td>\n",
       "      <td>0.0000</td>\n",
       "      <td>0.0</td>\n",
       "      <td>0.0000</td>\n",
       "      <td>0.0000</td>\n",
       "      <td>0.0000</td>\n",
       "      <td>0.0000</td>\n",
       "      <td>0.0000</td>\n",
       "      <td>...</td>\n",
       "      <td>0.0540</td>\n",
       "      <td>0.0320</td>\n",
       "      <td>0.0840</td>\n",
       "      <td>0.118</td>\n",
       "      <td>0.0000</td>\n",
       "      <td>0.0000</td>\n",
       "      <td>0.0000</td>\n",
       "      <td>0.0240</td>\n",
       "      <td>0.0000</td>\n",
       "      <td>0.0000</td>\n",
       "    </tr>\n",
       "    <tr>\n",
       "      <th>neu</th>\n",
       "      <td>0.7030</td>\n",
       "      <td>0.7190</td>\n",
       "      <td>0.0000</td>\n",
       "      <td>0.4590</td>\n",
       "      <td>1.0</td>\n",
       "      <td>0.0000</td>\n",
       "      <td>0.7190</td>\n",
       "      <td>0.4590</td>\n",
       "      <td>0.4480</td>\n",
       "      <td>0.3160</td>\n",
       "      <td>...</td>\n",
       "      <td>0.6900</td>\n",
       "      <td>0.8580</td>\n",
       "      <td>0.6690</td>\n",
       "      <td>0.374</td>\n",
       "      <td>0.7890</td>\n",
       "      <td>0.4640</td>\n",
       "      <td>0.7570</td>\n",
       "      <td>0.8360</td>\n",
       "      <td>0.7090</td>\n",
       "      <td>0.6330</td>\n",
       "    </tr>\n",
       "    <tr>\n",
       "      <th>pos</th>\n",
       "      <td>0.2000</td>\n",
       "      <td>0.2810</td>\n",
       "      <td>1.0000</td>\n",
       "      <td>0.5410</td>\n",
       "      <td>0.0</td>\n",
       "      <td>1.0000</td>\n",
       "      <td>0.2810</td>\n",
       "      <td>0.5410</td>\n",
       "      <td>0.5520</td>\n",
       "      <td>0.6840</td>\n",
       "      <td>...</td>\n",
       "      <td>0.2560</td>\n",
       "      <td>0.1100</td>\n",
       "      <td>0.2470</td>\n",
       "      <td>0.508</td>\n",
       "      <td>0.2110</td>\n",
       "      <td>0.5360</td>\n",
       "      <td>0.2430</td>\n",
       "      <td>0.1400</td>\n",
       "      <td>0.2910</td>\n",
       "      <td>0.3670</td>\n",
       "    </tr>\n",
       "    <tr>\n",
       "      <th>compound</th>\n",
       "      <td>0.5707</td>\n",
       "      <td>0.8803</td>\n",
       "      <td>0.5719</td>\n",
       "      <td>0.7096</td>\n",
       "      <td>0.0</td>\n",
       "      <td>0.5719</td>\n",
       "      <td>0.8803</td>\n",
       "      <td>0.7096</td>\n",
       "      <td>0.5719</td>\n",
       "      <td>0.7574</td>\n",
       "      <td>...</td>\n",
       "      <td>0.9901</td>\n",
       "      <td>0.5994</td>\n",
       "      <td>0.5994</td>\n",
       "      <td>0.807</td>\n",
       "      <td>0.9541</td>\n",
       "      <td>0.8552</td>\n",
       "      <td>0.8126</td>\n",
       "      <td>0.6745</td>\n",
       "      <td>0.6249</td>\n",
       "      <td>0.9636</td>\n",
       "    </tr>\n",
       "  </tbody>\n",
       "</table>\n",
       "<p>4 rows × 2501 columns</p>\n",
       "</div>"
      ],
      "text/plain": [
       "            0       1       2       3     4       5       6       7     \\\n",
       "neg       0.0970  0.0000  0.0000  0.0000   0.0  0.0000  0.0000  0.0000   \n",
       "neu       0.7030  0.7190  0.0000  0.4590   1.0  0.0000  0.7190  0.4590   \n",
       "pos       0.2000  0.2810  1.0000  0.5410   0.0  1.0000  0.2810  0.5410   \n",
       "compound  0.5707  0.8803  0.5719  0.7096   0.0  0.5719  0.8803  0.7096   \n",
       "\n",
       "            8       9     ...    2491    2492    2493   2494    2495    2496  \\\n",
       "neg       0.0000  0.0000  ...  0.0540  0.0320  0.0840  0.118  0.0000  0.0000   \n",
       "neu       0.4480  0.3160  ...  0.6900  0.8580  0.6690  0.374  0.7890  0.4640   \n",
       "pos       0.5520  0.6840  ...  0.2560  0.1100  0.2470  0.508  0.2110  0.5360   \n",
       "compound  0.5719  0.7574  ...  0.9901  0.5994  0.5994  0.807  0.9541  0.8552   \n",
       "\n",
       "            2497    2498    2499    2500  \n",
       "neg       0.0000  0.0240  0.0000  0.0000  \n",
       "neu       0.7570  0.8360  0.7090  0.6330  \n",
       "pos       0.2430  0.1400  0.2910  0.3670  \n",
       "compound  0.8126  0.6745  0.6249  0.9636  \n",
       "\n",
       "[4 rows x 2501 columns]"
      ]
     },
     "execution_count": 27,
     "metadata": {},
     "output_type": "execute_result"
    }
   ],
   "source": [
    "vaders.head()"
   ]
  },
  {
   "cell_type": "code",
   "execution_count": 28,
   "id": "39f12e67",
   "metadata": {},
   "outputs": [],
   "source": [
    "vaders = vaders.T"
   ]
  },
  {
   "cell_type": "code",
   "execution_count": 29,
   "id": "e8c4ad01",
   "metadata": {},
   "outputs": [
    {
     "data": {
      "text/html": [
       "<div>\n",
       "<style scoped>\n",
       "    .dataframe tbody tr th:only-of-type {\n",
       "        vertical-align: middle;\n",
       "    }\n",
       "\n",
       "    .dataframe tbody tr th {\n",
       "        vertical-align: top;\n",
       "    }\n",
       "\n",
       "    .dataframe thead th {\n",
       "        text-align: right;\n",
       "    }\n",
       "</style>\n",
       "<table border=\"1\" class=\"dataframe\">\n",
       "  <thead>\n",
       "    <tr style=\"text-align: right;\">\n",
       "      <th></th>\n",
       "      <th>neg</th>\n",
       "      <th>neu</th>\n",
       "      <th>pos</th>\n",
       "      <th>compound</th>\n",
       "    </tr>\n",
       "  </thead>\n",
       "  <tbody>\n",
       "    <tr>\n",
       "      <th>0</th>\n",
       "      <td>0.097</td>\n",
       "      <td>0.703</td>\n",
       "      <td>0.200</td>\n",
       "      <td>0.5707</td>\n",
       "    </tr>\n",
       "    <tr>\n",
       "      <th>1</th>\n",
       "      <td>0.000</td>\n",
       "      <td>0.719</td>\n",
       "      <td>0.281</td>\n",
       "      <td>0.8803</td>\n",
       "    </tr>\n",
       "    <tr>\n",
       "      <th>2</th>\n",
       "      <td>0.000</td>\n",
       "      <td>0.000</td>\n",
       "      <td>1.000</td>\n",
       "      <td>0.5719</td>\n",
       "    </tr>\n",
       "    <tr>\n",
       "      <th>3</th>\n",
       "      <td>0.000</td>\n",
       "      <td>0.459</td>\n",
       "      <td>0.541</td>\n",
       "      <td>0.7096</td>\n",
       "    </tr>\n",
       "    <tr>\n",
       "      <th>4</th>\n",
       "      <td>0.000</td>\n",
       "      <td>1.000</td>\n",
       "      <td>0.000</td>\n",
       "      <td>0.0000</td>\n",
       "    </tr>\n",
       "  </tbody>\n",
       "</table>\n",
       "</div>"
      ],
      "text/plain": [
       "     neg    neu    pos  compound\n",
       "0  0.097  0.703  0.200    0.5707\n",
       "1  0.000  0.719  0.281    0.8803\n",
       "2  0.000  0.000  1.000    0.5719\n",
       "3  0.000  0.459  0.541    0.7096\n",
       "4  0.000  1.000  0.000    0.0000"
      ]
     },
     "execution_count": 29,
     "metadata": {},
     "output_type": "execute_result"
    }
   ],
   "source": [
    "vaders.head()"
   ]
  },
  {
   "cell_type": "code",
   "execution_count": 30,
   "id": "f2b21d77",
   "metadata": {},
   "outputs": [],
   "source": [
    "vaders = vaders.reset_index().rename(columns={\"index\":\"Id\"})"
   ]
  },
  {
   "cell_type": "code",
   "execution_count": 31,
   "id": "2ac782ca",
   "metadata": {},
   "outputs": [
    {
     "data": {
      "text/html": [
       "<div>\n",
       "<style scoped>\n",
       "    .dataframe tbody tr th:only-of-type {\n",
       "        vertical-align: middle;\n",
       "    }\n",
       "\n",
       "    .dataframe tbody tr th {\n",
       "        vertical-align: top;\n",
       "    }\n",
       "\n",
       "    .dataframe thead th {\n",
       "        text-align: right;\n",
       "    }\n",
       "</style>\n",
       "<table border=\"1\" class=\"dataframe\">\n",
       "  <thead>\n",
       "    <tr style=\"text-align: right;\">\n",
       "      <th></th>\n",
       "      <th>Id</th>\n",
       "      <th>neg</th>\n",
       "      <th>neu</th>\n",
       "      <th>pos</th>\n",
       "      <th>compound</th>\n",
       "    </tr>\n",
       "  </thead>\n",
       "  <tbody>\n",
       "    <tr>\n",
       "      <th>0</th>\n",
       "      <td>0</td>\n",
       "      <td>0.097</td>\n",
       "      <td>0.703</td>\n",
       "      <td>0.200</td>\n",
       "      <td>0.5707</td>\n",
       "    </tr>\n",
       "    <tr>\n",
       "      <th>1</th>\n",
       "      <td>1</td>\n",
       "      <td>0.000</td>\n",
       "      <td>0.719</td>\n",
       "      <td>0.281</td>\n",
       "      <td>0.8803</td>\n",
       "    </tr>\n",
       "    <tr>\n",
       "      <th>2</th>\n",
       "      <td>2</td>\n",
       "      <td>0.000</td>\n",
       "      <td>0.000</td>\n",
       "      <td>1.000</td>\n",
       "      <td>0.5719</td>\n",
       "    </tr>\n",
       "    <tr>\n",
       "      <th>3</th>\n",
       "      <td>3</td>\n",
       "      <td>0.000</td>\n",
       "      <td>0.459</td>\n",
       "      <td>0.541</td>\n",
       "      <td>0.7096</td>\n",
       "    </tr>\n",
       "    <tr>\n",
       "      <th>4</th>\n",
       "      <td>4</td>\n",
       "      <td>0.000</td>\n",
       "      <td>1.000</td>\n",
       "      <td>0.000</td>\n",
       "      <td>0.0000</td>\n",
       "    </tr>\n",
       "  </tbody>\n",
       "</table>\n",
       "</div>"
      ],
      "text/plain": [
       "   Id    neg    neu    pos  compound\n",
       "0   0  0.097  0.703  0.200    0.5707\n",
       "1   1  0.000  0.719  0.281    0.8803\n",
       "2   2  0.000  0.000  1.000    0.5719\n",
       "3   3  0.000  0.459  0.541    0.7096\n",
       "4   4  0.000  1.000  0.000    0.0000"
      ]
     },
     "execution_count": 31,
     "metadata": {},
     "output_type": "execute_result"
    }
   ],
   "source": [
    "vaders.head()"
   ]
  },
  {
   "cell_type": "code",
   "execution_count": 32,
   "id": "157668d9",
   "metadata": {},
   "outputs": [],
   "source": [
    "vaders = vaders.merge(data, how='left')"
   ]
  },
  {
   "cell_type": "code",
   "execution_count": 33,
   "id": "5a4ee02d",
   "metadata": {},
   "outputs": [
    {
     "data": {
      "text/html": [
       "<div>\n",
       "<style scoped>\n",
       "    .dataframe tbody tr th:only-of-type {\n",
       "        vertical-align: middle;\n",
       "    }\n",
       "\n",
       "    .dataframe tbody tr th {\n",
       "        vertical-align: top;\n",
       "    }\n",
       "\n",
       "    .dataframe thead th {\n",
       "        text-align: right;\n",
       "    }\n",
       "</style>\n",
       "<table border=\"1\" class=\"dataframe\">\n",
       "  <thead>\n",
       "    <tr style=\"text-align: right;\">\n",
       "      <th></th>\n",
       "      <th>Id</th>\n",
       "      <th>neg</th>\n",
       "      <th>neu</th>\n",
       "      <th>pos</th>\n",
       "      <th>compound</th>\n",
       "      <th>report_date</th>\n",
       "      <th>online_store</th>\n",
       "      <th>upc</th>\n",
       "      <th>retailer_product_code</th>\n",
       "      <th>brand</th>\n",
       "      <th>...</th>\n",
       "      <th>dimension2</th>\n",
       "      <th>dimension3</th>\n",
       "      <th>dimension4</th>\n",
       "      <th>dimension5</th>\n",
       "      <th>dimension6</th>\n",
       "      <th>dimension7</th>\n",
       "      <th>dimension8</th>\n",
       "      <th>verified_purchase</th>\n",
       "      <th>helpful_review_count</th>\n",
       "      <th>review_hash_id</th>\n",
       "    </tr>\n",
       "  </thead>\n",
       "  <tbody>\n",
       "    <tr>\n",
       "      <th>0</th>\n",
       "      <td>0</td>\n",
       "      <td>0.097</td>\n",
       "      <td>0.703</td>\n",
       "      <td>0.200</td>\n",
       "      <td>0.5707</td>\n",
       "      <td>2019-01-02</td>\n",
       "      <td>FRESHAMAZON</td>\n",
       "      <td>8718114216478</td>\n",
       "      <td>B0142CI6FC</td>\n",
       "      <td>Dove Men+Care</td>\n",
       "      <td>...</td>\n",
       "      <td>Male Anti-Perspirant Deodorant</td>\n",
       "      <td>COTC Male Anti-Perspirant Deodorant</td>\n",
       "      <td>NaN</td>\n",
       "      <td>NaN</td>\n",
       "      <td>NaN</td>\n",
       "      <td>COTC Male Anti-Perspirant Deodorant</td>\n",
       "      <td>Core of the Core</td>\n",
       "      <td>True</td>\n",
       "      <td>0</td>\n",
       "      <td>3f129b02-ea76-0323-bd59-235d97a4f83f</td>\n",
       "    </tr>\n",
       "    <tr>\n",
       "      <th>1</th>\n",
       "      <td>1</td>\n",
       "      <td>0.000</td>\n",
       "      <td>0.719</td>\n",
       "      <td>0.281</td>\n",
       "      <td>0.8803</td>\n",
       "      <td>2019-01-03</td>\n",
       "      <td>FRESHAMAZON</td>\n",
       "      <td>5000184201199</td>\n",
       "      <td>B014DFNNRY</td>\n",
       "      <td>Marmite</td>\n",
       "      <td>...</td>\n",
       "      <td>COTC Yeast Extract</td>\n",
       "      <td>COTC Yeast Extract</td>\n",
       "      <td>NaN</td>\n",
       "      <td>NaN</td>\n",
       "      <td>NaN</td>\n",
       "      <td>COTC Yeast Extract</td>\n",
       "      <td>Core of the Core</td>\n",
       "      <td>True</td>\n",
       "      <td>0</td>\n",
       "      <td>d7f3b9aa-e8b3-626d-683b-374e201c8315</td>\n",
       "    </tr>\n",
       "    <tr>\n",
       "      <th>2</th>\n",
       "      <td>2</td>\n",
       "      <td>0.000</td>\n",
       "      <td>0.000</td>\n",
       "      <td>1.000</td>\n",
       "      <td>0.5719</td>\n",
       "      <td>2019-01-03</td>\n",
       "      <td>FRESHAMAZON</td>\n",
       "      <td>5000184201199</td>\n",
       "      <td>B014DFNNRY</td>\n",
       "      <td>Marmite</td>\n",
       "      <td>...</td>\n",
       "      <td>COTC Yeast Extract</td>\n",
       "      <td>COTC Yeast Extract</td>\n",
       "      <td>NaN</td>\n",
       "      <td>NaN</td>\n",
       "      <td>NaN</td>\n",
       "      <td>COTC Yeast Extract</td>\n",
       "      <td>Core of the Core</td>\n",
       "      <td>True</td>\n",
       "      <td>0</td>\n",
       "      <td>e58a523d-0155-a366-f107-7ac6817ac3b7</td>\n",
       "    </tr>\n",
       "    <tr>\n",
       "      <th>3</th>\n",
       "      <td>3</td>\n",
       "      <td>0.000</td>\n",
       "      <td>0.459</td>\n",
       "      <td>0.541</td>\n",
       "      <td>0.7096</td>\n",
       "      <td>2019-01-03</td>\n",
       "      <td>FRESHAMAZON</td>\n",
       "      <td>8712566479726</td>\n",
       "      <td>B014DFKELC</td>\n",
       "      <td>Knorr</td>\n",
       "      <td>...</td>\n",
       "      <td>Beef Stock/Pots/Cubes/Extract/Liquid/Concentrated</td>\n",
       "      <td>Stock Pots</td>\n",
       "      <td>NaN</td>\n",
       "      <td>NaN</td>\n",
       "      <td>NaN</td>\n",
       "      <td>Stock Pots</td>\n",
       "      <td>Core of the Core</td>\n",
       "      <td>True</td>\n",
       "      <td>0</td>\n",
       "      <td>aaa9bb87-4f99-bb89-65cb-3b400ebb45c0</td>\n",
       "    </tr>\n",
       "    <tr>\n",
       "      <th>4</th>\n",
       "      <td>4</td>\n",
       "      <td>0.000</td>\n",
       "      <td>1.000</td>\n",
       "      <td>0.000</td>\n",
       "      <td>0.0000</td>\n",
       "      <td>2019-01-03</td>\n",
       "      <td>FRESHAMAZON</td>\n",
       "      <td>8717163536476</td>\n",
       "      <td>B014G37I7E</td>\n",
       "      <td>Cif</td>\n",
       "      <td>...</td>\n",
       "      <td>Bathroom Mousse</td>\n",
       "      <td>Bathroom Mousse</td>\n",
       "      <td>NaN</td>\n",
       "      <td>NaN</td>\n",
       "      <td>NaN</td>\n",
       "      <td>NaN</td>\n",
       "      <td>Core of the Core</td>\n",
       "      <td>False</td>\n",
       "      <td>0</td>\n",
       "      <td>48c71b34-d7fe-5e90-51dd-239e153fb0ae</td>\n",
       "    </tr>\n",
       "  </tbody>\n",
       "</table>\n",
       "<p>5 rows × 37 columns</p>\n",
       "</div>"
      ],
      "text/plain": [
       "   Id    neg    neu    pos  compound report_date online_store            upc  \\\n",
       "0   0  0.097  0.703  0.200    0.5707  2019-01-02  FRESHAMAZON  8718114216478   \n",
       "1   1  0.000  0.719  0.281    0.8803  2019-01-03  FRESHAMAZON  5000184201199   \n",
       "2   2  0.000  0.000  1.000    0.5719  2019-01-03  FRESHAMAZON  5000184201199   \n",
       "3   3  0.000  0.459  0.541    0.7096  2019-01-03  FRESHAMAZON  8712566479726   \n",
       "4   4  0.000  1.000  0.000    0.0000  2019-01-03  FRESHAMAZON  8717163536476   \n",
       "\n",
       "  retailer_product_code          brand  ...  \\\n",
       "0            B0142CI6FC  Dove Men+Care  ...   \n",
       "1            B014DFNNRY        Marmite  ...   \n",
       "2            B014DFNNRY        Marmite  ...   \n",
       "3            B014DFKELC          Knorr  ...   \n",
       "4            B014G37I7E            Cif  ...   \n",
       "\n",
       "                                          dimension2  \\\n",
       "0                     Male Anti-Perspirant Deodorant   \n",
       "1                                 COTC Yeast Extract   \n",
       "2                                 COTC Yeast Extract   \n",
       "3  Beef Stock/Pots/Cubes/Extract/Liquid/Concentrated   \n",
       "4                                    Bathroom Mousse   \n",
       "\n",
       "                            dimension3 dimension4 dimension5  dimension6  \\\n",
       "0  COTC Male Anti-Perspirant Deodorant        NaN        NaN         NaN   \n",
       "1                   COTC Yeast Extract        NaN        NaN         NaN   \n",
       "2                   COTC Yeast Extract        NaN        NaN         NaN   \n",
       "3                           Stock Pots        NaN        NaN         NaN   \n",
       "4                      Bathroom Mousse        NaN        NaN         NaN   \n",
       "\n",
       "                            dimension7        dimension8  verified_purchase  \\\n",
       "0  COTC Male Anti-Perspirant Deodorant  Core of the Core               True   \n",
       "1                   COTC Yeast Extract  Core of the Core               True   \n",
       "2                   COTC Yeast Extract  Core of the Core               True   \n",
       "3                           Stock Pots  Core of the Core               True   \n",
       "4                                  NaN  Core of the Core              False   \n",
       "\n",
       "  helpful_review_count                        review_hash_id  \n",
       "0                    0  3f129b02-ea76-0323-bd59-235d97a4f83f  \n",
       "1                    0  d7f3b9aa-e8b3-626d-683b-374e201c8315  \n",
       "2                    0  e58a523d-0155-a366-f107-7ac6817ac3b7  \n",
       "3                    0  aaa9bb87-4f99-bb89-65cb-3b400ebb45c0  \n",
       "4                    0  48c71b34-d7fe-5e90-51dd-239e153fb0ae  \n",
       "\n",
       "[5 rows x 37 columns]"
      ]
     },
     "execution_count": 33,
     "metadata": {},
     "output_type": "execute_result"
    }
   ],
   "source": [
    "vaders.head()"
   ]
  },
  {
   "cell_type": "markdown",
   "id": "dd332edf",
   "metadata": {},
   "source": [
    "### Plotting Vader Scores"
   ]
  },
  {
   "cell_type": "code",
   "execution_count": 34,
   "id": "9cdc5e83",
   "metadata": {},
   "outputs": [
    {
     "data": {
      "text/plain": [
       "[]"
      ]
     },
     "execution_count": 34,
     "metadata": {},
     "output_type": "execute_result"
    },
    {
     "data": {
      "image/png": "[encoded data removed]",
      "text/plain": [
       "<Figure size 900x600 with 1 Axes>"
      ]
     },
     "metadata": {},
     "output_type": "display_data"
    }
   ],
   "source": [
    "plt.figure(figsize=(9,6))\n",
    "plt.title(\"Vader Compound Score\")\n",
    "sns.barplot(x=vaders[\"Id\"][:30],y=vaders[\"compound\"])\n",
    "plt.plot()"
   ]
  },
  {
   "cell_type": "code",
   "execution_count": 35,
   "id": "fd8d91dd",
   "metadata": {},
   "outputs": [
    {
     "data": {
      "image/png": "[encoded data removed]",
      "text/plain": [
       "<Figure size 1200x300 with 3 Axes>"
      ]
     },
     "metadata": {},
     "output_type": "display_data"
    }
   ],
   "source": [
    "fig,axs = plt.subplots(1,3,figsize=(12,3))\n",
    "sns.barplot(x=vaders[\"Id\"],y=vaders[\"pos\"],ax=axs[0])\n",
    "sns.barplot(x=vaders[\"Id\"],y=vaders[\"neg\"],ax=axs[1])\n",
    "sns.barplot(x=vaders[\"Id\"],y=vaders[\"neu\"],ax=axs[2])\n",
    "axs[0].set_title(\"Positive\")\n",
    "axs[1].set_title(\"Negative\")\n",
    "axs[2].set_title(\"Neutral\")\n",
    "plt.tight_layout\n",
    "plt.show()"
   ]
  },
  {
   "cell_type": "markdown",
   "id": "30a2c48d",
   "metadata": {},
   "source": [
    "## Roberta Pre-Trained Model"
   ]
  },
  {
   "cell_type": "code",
   "execution_count": 36,
   "id": "d05f7762",
   "metadata": {},
   "outputs": [],
   "source": [
    "import torch"
   ]
  },
  {
   "cell_type": "code",
   "execution_count": 37,
   "id": "e537ba7d",
   "metadata": {},
   "outputs": [
    {
     "name": "stdout",
     "output_type": "stream",
     "text": [
      "2.2.2+cpu\n"
     ]
    }
   ],
   "source": [
    "print(torch.__version__)"
   ]
  },
  {
   "cell_type": "code",
   "execution_count": 38,
   "id": "e47ab1f2",
   "metadata": {},
   "outputs": [],
   "source": [
    "from transformers import AutoTokenizer\n",
    "from transformers import AutoModelForSequenceClassification\n",
    "from scipy.special import softmax"
   ]
  },
  {
   "cell_type": "code",
   "execution_count": 39,
   "id": "10cdf685",
   "metadata": {},
   "outputs": [],
   "source": [
    "import numpy as np\n",
    "import pandas as pd \n",
    "import sys\n",
    "import emoji\n",
    "import math\n",
    "import pickle\n",
    "from time import time\n",
    "from nltk.corpus import stopwords\n",
    "from nltk.stem import SnowballStemmer\n",
    "from sklearn.feature_extraction.text import CountVectorizer, TfidfVectorizer\n",
    "from sklearn.pipeline import Pipeline\n",
    "from sklearn.metrics import confusion_matrix\n",
    "from sklearn.ensemble import RandomForestClassifier\n",
    "from sklearn.model_selection import train_test_split\n",
    "from sklearn.naive_bayes import GaussianNB, MultinomialNB\n",
    "from sklearn.linear_model import SGDClassifier\n",
    "from sklearn.cluster import KMeans\n",
    "from sklearn import tree\n",
    "from sklearn import svm\n",
    "from contextlib import contextmanager\n",
    "from sklearn.feature_extraction.text import TfidfVectorizer\n",
    "from scipy.sparse import hstack\n",
    "import time\n",
    "import re\n",
    "import string\n",
    "from scipy.sparse import csr_matrix\n",
    "from sklearn.preprocessing import MinMaxScaler\n",
    "import lightgbm as lgb\n",
    "from sklearn.model_selection import KFold\n",
    "from sklearn.metrics import roc_auc_score\n",
    "import gc\n",
    "from collections import defaultdict\n",
    "import os\n",
    "import psutil\n",
    "import os"
   ]
  },
  {
   "cell_type": "code",
   "execution_count": 40,
   "id": "2d1a2c77",
   "metadata": {},
   "outputs": [],
   "source": [
    "import tensorflow as tf"
   ]
  },
  {
   "cell_type": "code",
   "execution_count": 41,
   "id": "ce4657e6",
   "metadata": {},
   "outputs": [],
   "source": [
    "import tensorflow as tf\n",
    "from tensorflow import keras"
   ]
  },
  {
   "cell_type": "code",
   "execution_count": 42,
   "id": "040d5288",
   "metadata": {},
   "outputs": [],
   "source": [
    "model = tf.keras.models.Sequential()\n",
    "model.add(tf.keras.layers.Dense(12, input_dim=8, activation='relu'))\n",
    "model.add(tf.keras.layers.Dense(8, activation='relu'))\n",
    "model.add(tf.keras.layers.Dense(1, activation='sigmoid'))"
   ]
  },
  {
   "cell_type": "code",
   "execution_count": 43,
   "id": "2742658f",
   "metadata": {},
   "outputs": [],
   "source": [
    "MODEL = f\"cardiffnlp/twitter-roberta-base-sentiment\"\n",
    "tokenizer = AutoTokenizer.from_pretrained(MODEL)\n",
    "model = AutoModelForSequenceClassification.from_pretrained(MODEL)"
   ]
  },
  {
   "cell_type": "code",
   "execution_count": 44,
   "id": "e5015aa0",
   "metadata": {},
   "outputs": [
    {
     "name": "stdout",
     "output_type": "stream",
     "text": [
      "excellent\n"
     ]
    },
    {
     "data": {
      "text/plain": [
       "{'neg': 0.0, 'neu': 0.0, 'pos': 1.0, 'compound': 0.5719}"
      ]
     },
     "execution_count": 44,
     "metadata": {},
     "output_type": "execute_result"
    }
   ],
   "source": [
    "# VADER results on example\n",
    "print(review_example)\n",
    "sia.polarity_scores(review_example)"
   ]
  },
  {
   "cell_type": "code",
   "execution_count": 45,
   "id": "2567f7c7",
   "metadata": {},
   "outputs": [
    {
     "name": "stdout",
     "output_type": "stream",
     "text": [
      "{'roberta_neg': 0.008278512, 'roberta_neu': 0.083049245, 'roberta_pos': 0.9086723}\n"
     ]
    }
   ],
   "source": [
    "encoded_text = tokenizer(review_example, return_tensors='pt')\n",
    "output = model(**encoded_text)\n",
    "scores = output[0][0].detach().numpy()\n",
    "scores = softmax(scores)\n",
    "scores_dict = {\n",
    "    'roberta_neg' : scores[0],\n",
    "    'roberta_neu' : scores[1],\n",
    "    'roberta_pos' : scores[2]\n",
    "}\n",
    "print(scores_dict)"
   ]
  },
  {
   "cell_type": "code",
   "execution_count": 46,
   "id": "4ec5448a",
   "metadata": {},
   "outputs": [],
   "source": [
    "def polarity_scores_roberta(review_example):\n",
    "    encoded_text = tokenizer(review_example, return_tensors='pt')\n",
    "    output = model(**encoded_text)\n",
    "    scores = output[0][0].detach().numpy()\n",
    "    scores = softmax(scores)\n",
    "    scores_dict = {\n",
    "        'roberta_neg' : scores[0],\n",
    "        'roberta_neu' : scores[1],\n",
    "        'roberta_pos' : scores[2]\n",
    "    }\n",
    "    return scores_dict"
   ]
  },
  {
   "cell_type": "code",
   "execution_count": 47,
   "id": "c08b694c",
   "metadata": {},
   "outputs": [
    {
     "data": {
      "application/vnd.jupyter.widget-view+json": {
       "model_id": "1f644a6561384c4aabe7e54465b8cfe1",
       "version_major": 2,
       "version_minor": 0
      },
      "text/plain": [
       "  0%|          | 0/2501 [00:00<?, ?it/s]"
      ]
     },
     "metadata": {},
     "output_type": "display_data"
    }
   ],
   "source": [
    "res = {}\n",
    "for i, row in tqdm(data.iterrows(), total=len(data)):\n",
    "    try:\n",
    "        text = row['review_text']\n",
    "        myid = row['Id']\n",
    "        vader_result = sia.polarity_scores(text)\n",
    "        vader_result_rename = {}\n",
    "        for key, value in vader_result.items():\n",
    "            vader_result_rename[f\"vader_{key}\"] = value\n",
    "        roberta_result = polarity_scores_roberta(text)\n",
    "        both = {**vader_result_rename, **roberta_result}\n",
    "        res[myid] = both\n",
    "    except RuntimeError:\n",
    "        print(f'Broke for id {myid}')"
   ]
  },
  {
   "cell_type": "code",
   "execution_count": 48,
   "id": "ec489bd7",
   "metadata": {},
   "outputs": [],
   "source": [
    "results_data = pd.DataFrame(res)"
   ]
  },
  {
   "cell_type": "code",
   "execution_count": 49,
   "id": "a221f193",
   "metadata": {},
   "outputs": [
    {
     "data": {
      "text/html": [
       "<div>\n",
       "<style scoped>\n",
       "    .dataframe tbody tr th:only-of-type {\n",
       "        vertical-align: middle;\n",
       "    }\n",
       "\n",
       "    .dataframe tbody tr th {\n",
       "        vertical-align: top;\n",
       "    }\n",
       "\n",
       "    .dataframe thead th {\n",
       "        text-align: right;\n",
       "    }\n",
       "</style>\n",
       "<table border=\"1\" class=\"dataframe\">\n",
       "  <thead>\n",
       "    <tr style=\"text-align: right;\">\n",
       "      <th></th>\n",
       "      <th>0</th>\n",
       "      <th>1</th>\n",
       "      <th>2</th>\n",
       "      <th>3</th>\n",
       "      <th>4</th>\n",
       "      <th>5</th>\n",
       "      <th>6</th>\n",
       "      <th>7</th>\n",
       "      <th>8</th>\n",
       "      <th>9</th>\n",
       "      <th>...</th>\n",
       "      <th>2491</th>\n",
       "      <th>2492</th>\n",
       "      <th>2493</th>\n",
       "      <th>2494</th>\n",
       "      <th>2495</th>\n",
       "      <th>2496</th>\n",
       "      <th>2497</th>\n",
       "      <th>2498</th>\n",
       "      <th>2499</th>\n",
       "      <th>2500</th>\n",
       "    </tr>\n",
       "  </thead>\n",
       "  <tbody>\n",
       "    <tr>\n",
       "      <th>vader_neg</th>\n",
       "      <td>0.097000</td>\n",
       "      <td>0.000000</td>\n",
       "      <td>0.000000</td>\n",
       "      <td>0.000000</td>\n",
       "      <td>0.000000</td>\n",
       "      <td>0.000000</td>\n",
       "      <td>0.000000</td>\n",
       "      <td>0.000000</td>\n",
       "      <td>0.000000</td>\n",
       "      <td>0.000000</td>\n",
       "      <td>...</td>\n",
       "      <td>0.054000</td>\n",
       "      <td>0.032000</td>\n",
       "      <td>0.084000</td>\n",
       "      <td>0.118000</td>\n",
       "      <td>0.000000</td>\n",
       "      <td>0.000000</td>\n",
       "      <td>0.000000</td>\n",
       "      <td>0.024000</td>\n",
       "      <td>0.000000</td>\n",
       "      <td>0.00000</td>\n",
       "    </tr>\n",
       "    <tr>\n",
       "      <th>vader_neu</th>\n",
       "      <td>0.703000</td>\n",
       "      <td>0.719000</td>\n",
       "      <td>0.000000</td>\n",
       "      <td>0.459000</td>\n",
       "      <td>1.000000</td>\n",
       "      <td>0.000000</td>\n",
       "      <td>0.719000</td>\n",
       "      <td>0.459000</td>\n",
       "      <td>0.448000</td>\n",
       "      <td>0.316000</td>\n",
       "      <td>...</td>\n",
       "      <td>0.690000</td>\n",
       "      <td>0.858000</td>\n",
       "      <td>0.669000</td>\n",
       "      <td>0.374000</td>\n",
       "      <td>0.789000</td>\n",
       "      <td>0.464000</td>\n",
       "      <td>0.757000</td>\n",
       "      <td>0.836000</td>\n",
       "      <td>0.709000</td>\n",
       "      <td>0.63300</td>\n",
       "    </tr>\n",
       "    <tr>\n",
       "      <th>vader_pos</th>\n",
       "      <td>0.200000</td>\n",
       "      <td>0.281000</td>\n",
       "      <td>1.000000</td>\n",
       "      <td>0.541000</td>\n",
       "      <td>0.000000</td>\n",
       "      <td>1.000000</td>\n",
       "      <td>0.281000</td>\n",
       "      <td>0.541000</td>\n",
       "      <td>0.552000</td>\n",
       "      <td>0.684000</td>\n",
       "      <td>...</td>\n",
       "      <td>0.256000</td>\n",
       "      <td>0.110000</td>\n",
       "      <td>0.247000</td>\n",
       "      <td>0.508000</td>\n",
       "      <td>0.211000</td>\n",
       "      <td>0.536000</td>\n",
       "      <td>0.243000</td>\n",
       "      <td>0.140000</td>\n",
       "      <td>0.291000</td>\n",
       "      <td>0.36700</td>\n",
       "    </tr>\n",
       "    <tr>\n",
       "      <th>vader_compound</th>\n",
       "      <td>0.570700</td>\n",
       "      <td>0.880300</td>\n",
       "      <td>0.571900</td>\n",
       "      <td>0.709600</td>\n",
       "      <td>0.000000</td>\n",
       "      <td>0.571900</td>\n",
       "      <td>0.880300</td>\n",
       "      <td>0.709600</td>\n",
       "      <td>0.571900</td>\n",
       "      <td>0.757400</td>\n",
       "      <td>...</td>\n",
       "      <td>0.990100</td>\n",
       "      <td>0.599400</td>\n",
       "      <td>0.599400</td>\n",
       "      <td>0.807000</td>\n",
       "      <td>0.954100</td>\n",
       "      <td>0.855200</td>\n",
       "      <td>0.812600</td>\n",
       "      <td>0.674500</td>\n",
       "      <td>0.624900</td>\n",
       "      <td>0.96360</td>\n",
       "    </tr>\n",
       "    <tr>\n",
       "      <th>roberta_neg</th>\n",
       "      <td>0.015673</td>\n",
       "      <td>0.003519</td>\n",
       "      <td>0.168246</td>\n",
       "      <td>0.003667</td>\n",
       "      <td>0.103703</td>\n",
       "      <td>0.168246</td>\n",
       "      <td>0.003519</td>\n",
       "      <td>0.003667</td>\n",
       "      <td>0.004059</td>\n",
       "      <td>0.001823</td>\n",
       "      <td>...</td>\n",
       "      <td>0.183785</td>\n",
       "      <td>0.342626</td>\n",
       "      <td>0.008776</td>\n",
       "      <td>0.002235</td>\n",
       "      <td>0.006003</td>\n",
       "      <td>0.001708</td>\n",
       "      <td>0.001076</td>\n",
       "      <td>0.362866</td>\n",
       "      <td>0.042137</td>\n",
       "      <td>0.00192</td>\n",
       "    </tr>\n",
       "  </tbody>\n",
       "</table>\n",
       "<p>5 rows × 2501 columns</p>\n",
       "</div>"
      ],
      "text/plain": [
       "                    0         1         2         3         4         5     \\\n",
       "vader_neg       0.097000  0.000000  0.000000  0.000000  0.000000  0.000000   \n",
       "vader_neu       0.703000  0.719000  0.000000  0.459000  1.000000  0.000000   \n",
       "vader_pos       0.200000  0.281000  1.000000  0.541000  0.000000  1.000000   \n",
       "vader_compound  0.570700  0.880300  0.571900  0.709600  0.000000  0.571900   \n",
       "roberta_neg     0.015673  0.003519  0.168246  0.003667  0.103703  0.168246   \n",
       "\n",
       "                    6         7         8         9     ...      2491  \\\n",
       "vader_neg       0.000000  0.000000  0.000000  0.000000  ...  0.054000   \n",
       "vader_neu       0.719000  0.459000  0.448000  0.316000  ...  0.690000   \n",
       "vader_pos       0.281000  0.541000  0.552000  0.684000  ...  0.256000   \n",
       "vader_compound  0.880300  0.709600  0.571900  0.757400  ...  0.990100   \n",
       "roberta_neg     0.003519  0.003667  0.004059  0.001823  ...  0.183785   \n",
       "\n",
       "                    2492      2493      2494      2495      2496      2497  \\\n",
       "vader_neg       0.032000  0.084000  0.118000  0.000000  0.000000  0.000000   \n",
       "vader_neu       0.858000  0.669000  0.374000  0.789000  0.464000  0.757000   \n",
       "vader_pos       0.110000  0.247000  0.508000  0.211000  0.536000  0.243000   \n",
       "vader_compound  0.599400  0.599400  0.807000  0.954100  0.855200  0.812600   \n",
       "roberta_neg     0.342626  0.008776  0.002235  0.006003  0.001708  0.001076   \n",
       "\n",
       "                    2498      2499     2500  \n",
       "vader_neg       0.024000  0.000000  0.00000  \n",
       "vader_neu       0.836000  0.709000  0.63300  \n",
       "vader_pos       0.140000  0.291000  0.36700  \n",
       "vader_compound  0.674500  0.624900  0.96360  \n",
       "roberta_neg     0.362866  0.042137  0.00192  \n",
       "\n",
       "[5 rows x 2501 columns]"
      ]
     },
     "execution_count": 49,
     "metadata": {},
     "output_type": "execute_result"
    }
   ],
   "source": [
    "results_data.head()"
   ]
  },
  {
   "cell_type": "code",
   "execution_count": 50,
   "id": "698b39b4",
   "metadata": {},
   "outputs": [],
   "source": [
    "results_data = pd.DataFrame(res).T"
   ]
  },
  {
   "cell_type": "code",
   "execution_count": 51,
   "id": "007f7934",
   "metadata": {},
   "outputs": [
    {
     "data": {
      "text/html": [
       "<div>\n",
       "<style scoped>\n",
       "    .dataframe tbody tr th:only-of-type {\n",
       "        vertical-align: middle;\n",
       "    }\n",
       "\n",
       "    .dataframe tbody tr th {\n",
       "        vertical-align: top;\n",
       "    }\n",
       "\n",
       "    .dataframe thead th {\n",
       "        text-align: right;\n",
       "    }\n",
       "</style>\n",
       "<table border=\"1\" class=\"dataframe\">\n",
       "  <thead>\n",
       "    <tr style=\"text-align: right;\">\n",
       "      <th></th>\n",
       "      <th>vader_neg</th>\n",
       "      <th>vader_neu</th>\n",
       "      <th>vader_pos</th>\n",
       "      <th>vader_compound</th>\n",
       "      <th>roberta_neg</th>\n",
       "      <th>roberta_neu</th>\n",
       "      <th>roberta_pos</th>\n",
       "    </tr>\n",
       "  </thead>\n",
       "  <tbody>\n",
       "    <tr>\n",
       "      <th>0</th>\n",
       "      <td>0.097</td>\n",
       "      <td>0.703</td>\n",
       "      <td>0.200</td>\n",
       "      <td>0.5707</td>\n",
       "      <td>0.015673</td>\n",
       "      <td>0.181881</td>\n",
       "      <td>0.802446</td>\n",
       "    </tr>\n",
       "    <tr>\n",
       "      <th>1</th>\n",
       "      <td>0.000</td>\n",
       "      <td>0.719</td>\n",
       "      <td>0.281</td>\n",
       "      <td>0.8803</td>\n",
       "      <td>0.003519</td>\n",
       "      <td>0.027669</td>\n",
       "      <td>0.968813</td>\n",
       "    </tr>\n",
       "    <tr>\n",
       "      <th>2</th>\n",
       "      <td>0.000</td>\n",
       "      <td>0.000</td>\n",
       "      <td>1.000</td>\n",
       "      <td>0.5719</td>\n",
       "      <td>0.168246</td>\n",
       "      <td>0.480159</td>\n",
       "      <td>0.351595</td>\n",
       "    </tr>\n",
       "    <tr>\n",
       "      <th>3</th>\n",
       "      <td>0.000</td>\n",
       "      <td>0.459</td>\n",
       "      <td>0.541</td>\n",
       "      <td>0.7096</td>\n",
       "      <td>0.003667</td>\n",
       "      <td>0.042841</td>\n",
       "      <td>0.953492</td>\n",
       "    </tr>\n",
       "    <tr>\n",
       "      <th>4</th>\n",
       "      <td>0.000</td>\n",
       "      <td>1.000</td>\n",
       "      <td>0.000</td>\n",
       "      <td>0.0000</td>\n",
       "      <td>0.103703</td>\n",
       "      <td>0.744910</td>\n",
       "      <td>0.151387</td>\n",
       "    </tr>\n",
       "  </tbody>\n",
       "</table>\n",
       "</div>"
      ],
      "text/plain": [
       "   vader_neg  vader_neu  vader_pos  vader_compound  roberta_neg  roberta_neu  \\\n",
       "0      0.097      0.703      0.200          0.5707     0.015673     0.181881   \n",
       "1      0.000      0.719      0.281          0.8803     0.003519     0.027669   \n",
       "2      0.000      0.000      1.000          0.5719     0.168246     0.480159   \n",
       "3      0.000      0.459      0.541          0.7096     0.003667     0.042841   \n",
       "4      0.000      1.000      0.000          0.0000     0.103703     0.744910   \n",
       "\n",
       "   roberta_pos  \n",
       "0     0.802446  \n",
       "1     0.968813  \n",
       "2     0.351595  \n",
       "3     0.953492  \n",
       "4     0.151387  "
      ]
     },
     "execution_count": 51,
     "metadata": {},
     "output_type": "execute_result"
    }
   ],
   "source": [
    "results_data.head()"
   ]
  },
  {
   "cell_type": "code",
   "execution_count": 52,
   "id": "0696512f",
   "metadata": {},
   "outputs": [],
   "source": [
    "results_data = results_data.reset_index().rename(columns={'index': 'Id'})"
   ]
  },
  {
   "cell_type": "code",
   "execution_count": 53,
   "id": "24b92d8f",
   "metadata": {},
   "outputs": [],
   "source": [
    "results_data = results_data.merge(vaders, how='left')"
   ]
  },
  {
   "cell_type": "code",
   "execution_count": 54,
   "id": "f5062071",
   "metadata": {},
   "outputs": [
    {
     "data": {
      "text/html": [
       "<div>\n",
       "<style scoped>\n",
       "    .dataframe tbody tr th:only-of-type {\n",
       "        vertical-align: middle;\n",
       "    }\n",
       "\n",
       "    .dataframe tbody tr th {\n",
       "        vertical-align: top;\n",
       "    }\n",
       "\n",
       "    .dataframe thead th {\n",
       "        text-align: right;\n",
       "    }\n",
       "</style>\n",
       "<table border=\"1\" class=\"dataframe\">\n",
       "  <thead>\n",
       "    <tr style=\"text-align: right;\">\n",
       "      <th></th>\n",
       "      <th>Id</th>\n",
       "      <th>vader_neg</th>\n",
       "      <th>vader_neu</th>\n",
       "      <th>vader_pos</th>\n",
       "      <th>vader_compound</th>\n",
       "      <th>roberta_neg</th>\n",
       "      <th>roberta_neu</th>\n",
       "      <th>roberta_pos</th>\n",
       "      <th>neg</th>\n",
       "      <th>neu</th>\n",
       "      <th>...</th>\n",
       "      <th>dimension2</th>\n",
       "      <th>dimension3</th>\n",
       "      <th>dimension4</th>\n",
       "      <th>dimension5</th>\n",
       "      <th>dimension6</th>\n",
       "      <th>dimension7</th>\n",
       "      <th>dimension8</th>\n",
       "      <th>verified_purchase</th>\n",
       "      <th>helpful_review_count</th>\n",
       "      <th>review_hash_id</th>\n",
       "    </tr>\n",
       "  </thead>\n",
       "  <tbody>\n",
       "    <tr>\n",
       "      <th>0</th>\n",
       "      <td>0</td>\n",
       "      <td>0.097</td>\n",
       "      <td>0.703</td>\n",
       "      <td>0.200</td>\n",
       "      <td>0.5707</td>\n",
       "      <td>0.015673</td>\n",
       "      <td>0.181881</td>\n",
       "      <td>0.802446</td>\n",
       "      <td>0.097</td>\n",
       "      <td>0.703</td>\n",
       "      <td>...</td>\n",
       "      <td>Male Anti-Perspirant Deodorant</td>\n",
       "      <td>COTC Male Anti-Perspirant Deodorant</td>\n",
       "      <td>NaN</td>\n",
       "      <td>NaN</td>\n",
       "      <td>NaN</td>\n",
       "      <td>COTC Male Anti-Perspirant Deodorant</td>\n",
       "      <td>Core of the Core</td>\n",
       "      <td>True</td>\n",
       "      <td>0</td>\n",
       "      <td>3f129b02-ea76-0323-bd59-235d97a4f83f</td>\n",
       "    </tr>\n",
       "    <tr>\n",
       "      <th>1</th>\n",
       "      <td>1</td>\n",
       "      <td>0.000</td>\n",
       "      <td>0.719</td>\n",
       "      <td>0.281</td>\n",
       "      <td>0.8803</td>\n",
       "      <td>0.003519</td>\n",
       "      <td>0.027669</td>\n",
       "      <td>0.968813</td>\n",
       "      <td>0.000</td>\n",
       "      <td>0.719</td>\n",
       "      <td>...</td>\n",
       "      <td>COTC Yeast Extract</td>\n",
       "      <td>COTC Yeast Extract</td>\n",
       "      <td>NaN</td>\n",
       "      <td>NaN</td>\n",
       "      <td>NaN</td>\n",
       "      <td>COTC Yeast Extract</td>\n",
       "      <td>Core of the Core</td>\n",
       "      <td>True</td>\n",
       "      <td>0</td>\n",
       "      <td>d7f3b9aa-e8b3-626d-683b-374e201c8315</td>\n",
       "    </tr>\n",
       "    <tr>\n",
       "      <th>2</th>\n",
       "      <td>2</td>\n",
       "      <td>0.000</td>\n",
       "      <td>0.000</td>\n",
       "      <td>1.000</td>\n",
       "      <td>0.5719</td>\n",
       "      <td>0.168246</td>\n",
       "      <td>0.480159</td>\n",
       "      <td>0.351595</td>\n",
       "      <td>0.000</td>\n",
       "      <td>0.000</td>\n",
       "      <td>...</td>\n",
       "      <td>COTC Yeast Extract</td>\n",
       "      <td>COTC Yeast Extract</td>\n",
       "      <td>NaN</td>\n",
       "      <td>NaN</td>\n",
       "      <td>NaN</td>\n",
       "      <td>COTC Yeast Extract</td>\n",
       "      <td>Core of the Core</td>\n",
       "      <td>True</td>\n",
       "      <td>0</td>\n",
       "      <td>e58a523d-0155-a366-f107-7ac6817ac3b7</td>\n",
       "    </tr>\n",
       "    <tr>\n",
       "      <th>3</th>\n",
       "      <td>3</td>\n",
       "      <td>0.000</td>\n",
       "      <td>0.459</td>\n",
       "      <td>0.541</td>\n",
       "      <td>0.7096</td>\n",
       "      <td>0.003667</td>\n",
       "      <td>0.042841</td>\n",
       "      <td>0.953492</td>\n",
       "      <td>0.000</td>\n",
       "      <td>0.459</td>\n",
       "      <td>...</td>\n",
       "      <td>Beef Stock/Pots/Cubes/Extract/Liquid/Concentrated</td>\n",
       "      <td>Stock Pots</td>\n",
       "      <td>NaN</td>\n",
       "      <td>NaN</td>\n",
       "      <td>NaN</td>\n",
       "      <td>Stock Pots</td>\n",
       "      <td>Core of the Core</td>\n",
       "      <td>True</td>\n",
       "      <td>0</td>\n",
       "      <td>aaa9bb87-4f99-bb89-65cb-3b400ebb45c0</td>\n",
       "    </tr>\n",
       "    <tr>\n",
       "      <th>4</th>\n",
       "      <td>4</td>\n",
       "      <td>0.000</td>\n",
       "      <td>1.000</td>\n",
       "      <td>0.000</td>\n",
       "      <td>0.0000</td>\n",
       "      <td>0.103703</td>\n",
       "      <td>0.744910</td>\n",
       "      <td>0.151387</td>\n",
       "      <td>0.000</td>\n",
       "      <td>1.000</td>\n",
       "      <td>...</td>\n",
       "      <td>Bathroom Mousse</td>\n",
       "      <td>Bathroom Mousse</td>\n",
       "      <td>NaN</td>\n",
       "      <td>NaN</td>\n",
       "      <td>NaN</td>\n",
       "      <td>NaN</td>\n",
       "      <td>Core of the Core</td>\n",
       "      <td>False</td>\n",
       "      <td>0</td>\n",
       "      <td>48c71b34-d7fe-5e90-51dd-239e153fb0ae</td>\n",
       "    </tr>\n",
       "  </tbody>\n",
       "</table>\n",
       "<p>5 rows × 44 columns</p>\n",
       "</div>"
      ],
      "text/plain": [
       "   Id  vader_neg  vader_neu  vader_pos  vader_compound  roberta_neg  \\\n",
       "0   0      0.097      0.703      0.200          0.5707     0.015673   \n",
       "1   1      0.000      0.719      0.281          0.8803     0.003519   \n",
       "2   2      0.000      0.000      1.000          0.5719     0.168246   \n",
       "3   3      0.000      0.459      0.541          0.7096     0.003667   \n",
       "4   4      0.000      1.000      0.000          0.0000     0.103703   \n",
       "\n",
       "   roberta_neu  roberta_pos    neg    neu  ...  \\\n",
       "0     0.181881     0.802446  0.097  0.703  ...   \n",
       "1     0.027669     0.968813  0.000  0.719  ...   \n",
       "2     0.480159     0.351595  0.000  0.000  ...   \n",
       "3     0.042841     0.953492  0.000  0.459  ...   \n",
       "4     0.744910     0.151387  0.000  1.000  ...   \n",
       "\n",
       "                                          dimension2  \\\n",
       "0                     Male Anti-Perspirant Deodorant   \n",
       "1                                 COTC Yeast Extract   \n",
       "2                                 COTC Yeast Extract   \n",
       "3  Beef Stock/Pots/Cubes/Extract/Liquid/Concentrated   \n",
       "4                                    Bathroom Mousse   \n",
       "\n",
       "                            dimension3 dimension4 dimension5  dimension6  \\\n",
       "0  COTC Male Anti-Perspirant Deodorant        NaN        NaN         NaN   \n",
       "1                   COTC Yeast Extract        NaN        NaN         NaN   \n",
       "2                   COTC Yeast Extract        NaN        NaN         NaN   \n",
       "3                           Stock Pots        NaN        NaN         NaN   \n",
       "4                      Bathroom Mousse        NaN        NaN         NaN   \n",
       "\n",
       "                            dimension7        dimension8 verified_purchase  \\\n",
       "0  COTC Male Anti-Perspirant Deodorant  Core of the Core              True   \n",
       "1                   COTC Yeast Extract  Core of the Core              True   \n",
       "2                   COTC Yeast Extract  Core of the Core              True   \n",
       "3                           Stock Pots  Core of the Core              True   \n",
       "4                                  NaN  Core of the Core             False   \n",
       "\n",
       "  helpful_review_count                        review_hash_id  \n",
       "0                    0  3f129b02-ea76-0323-bd59-235d97a4f83f  \n",
       "1                    0  d7f3b9aa-e8b3-626d-683b-374e201c8315  \n",
       "2                    0  e58a523d-0155-a366-f107-7ac6817ac3b7  \n",
       "3                    0  aaa9bb87-4f99-bb89-65cb-3b400ebb45c0  \n",
       "4                    0  48c71b34-d7fe-5e90-51dd-239e153fb0ae  \n",
       "\n",
       "[5 rows x 44 columns]"
      ]
     },
     "execution_count": 54,
     "metadata": {},
     "output_type": "execute_result"
    }
   ],
   "source": [
    "results_data.head()"
   ]
  },
  {
   "cell_type": "code",
   "execution_count": 56,
   "id": "a6ba8f27",
   "metadata": {},
   "outputs": [
    {
     "data": {
      "text/plain": [
       "Index(['Id', 'vader_neg', 'vader_neu', 'vader_pos', 'vader_compound',\n",
       "       'roberta_neg', 'roberta_neu', 'roberta_pos', 'neg', 'neu', 'pos',\n",
       "       'compound', 'report_date', 'online_store', 'upc',\n",
       "       'retailer_product_code', 'brand', 'category', 'sub_category',\n",
       "       'product_description', 'review_date', 'review_rating', 'review_title',\n",
       "       'review_text', 'is_competitor', 'manufacturer', 'market',\n",
       "       'matched_keywords', 'time_of_publication', 'url', 'review_type',\n",
       "       'parent_review', 'manufacturers_response', 'dimension1', 'dimension2',\n",
       "       'dimension3', 'dimension4', 'dimension5', 'dimension6', 'dimension7',\n",
       "       'dimension8', 'verified_purchase', 'helpful_review_count',\n",
       "       'review_hash_id'],\n",
       "      dtype='object')"
      ]
     },
     "execution_count": 56,
     "metadata": {},
     "output_type": "execute_result"
    }
   ],
   "source": [
    "results_data.columns"
   ]
  },
  {
   "cell_type": "markdown",
   "id": "05a30fa9",
   "metadata": {},
   "source": [
    "## Comparing Scores"
   ]
  },
  {
   "cell_type": "code",
   "execution_count": 67,
   "id": "689ebdf6",
   "metadata": {},
   "outputs": [
    {
     "data": {
      "image/png": "[encoded data removed]",
      "text/plain": [
       "<Figure size 1600x600 with 6 Axes>"
      ]
     },
     "metadata": {},
     "output_type": "display_data"
    }
   ],
   "source": [
    "fig,axs = plt.subplots(1,6,figsize=(16,6))\n",
    "sns.barplot(x=results_data[\"review_rating\"],y=results_data[\"vader_pos\"],ax=axs[0])\n",
    "sns.barplot(x=results_data[\"review_rating\"],y=results_data[\"vader_neg\"],ax=axs[1])\n",
    "sns.barplot(x=results_data[\"review_rating\"],y=results_data[\"vader_neu\"],ax=axs[2])\n",
    "sns.barplot(x=results_data[\"review_rating\"],y=results_data[\"roberta_pos\"],ax=axs[3])\n",
    "sns.barplot(x=results_data[\"review_rating\"],y=results_data[\"roberta_neg\"],ax=axs[4])\n",
    "sns.barplot(x=results_data[\"review_rating\"],y=results_data[\"roberta_neu\"],ax=axs[5])\n",
    "axs[0].set_title(\"Vader Positive\")\n",
    "axs[1].set_title(\"Vader Negative\")\n",
    "axs[2].set_title(\"Vader Neutral\")\n",
    "axs[3].set_title(\"Roberta Positive\")\n",
    "axs[4].set_title(\"Roberta Negative\")\n",
    "axs[5].set_title(\"Roberta Neutral\")\n",
    "plt.tight_layout\n",
    "plt.show()"
   ]
  },
  {
   "cell_type": "markdown",
   "id": "d8c0cbd8",
   "metadata": {},
   "source": [
    "## Pipeline"
   ]
  },
  {
   "cell_type": "code",
   "execution_count": 68,
   "id": "a462444d",
   "metadata": {},
   "outputs": [
    {
     "name": "stderr",
     "output_type": "stream",
     "text": [
      "No model was supplied, defaulted to distilbert-base-uncased-finetuned-sst-2-english and revision af0f99b (https://huggingface.co/distilbert-base-uncased-finetuned-sst-2-english).\n",
      "Using a pipeline without specifying a model name and revision in production is not recommended.\n"
     ]
    }
   ],
   "source": [
    "from transformers import pipeline\n",
    "\n",
    "sent_pipeline = pipeline(\"sentiment-analysis\")"
   ]
  },
  {
   "cell_type": "code",
   "execution_count": 88,
   "id": "ec135459",
   "metadata": {},
   "outputs": [
    {
     "data": {
      "text/plain": [
       "[{'label': 'POSITIVE', 'score': 0.9997853636741638}]"
      ]
     },
     "execution_count": 88,
     "metadata": {},
     "output_type": "execute_result"
    }
   ],
   "source": [
    "sent_pipeline('I love sentiment analysis!')"
   ]
  },
  {
   "cell_type": "code",
   "execution_count": 70,
   "id": "9a480abb",
   "metadata": {},
   "outputs": [
    {
     "data": {
      "text/plain": [
       "[{'label': 'NEGATIVE', 'score': 0.9992958307266235}]"
      ]
     },
     "execution_count": 70,
     "metadata": {},
     "output_type": "execute_result"
    }
   ],
   "source": [
    "sent_pipeline('I hate  sentiment analysis!')"
   ]
  },
  {
   "cell_type": "code",
   "execution_count": 71,
   "id": "b1d6f2af",
   "metadata": {},
   "outputs": [
    {
     "data": {
      "text/plain": [
       "[{'label': 'POSITIVE', 'score': 0.9128923416137695}]"
      ]
     },
     "execution_count": 71,
     "metadata": {},
     "output_type": "execute_result"
    }
   ],
   "source": [
    "sent_pipeline('I may like sentiment analysis!')"
   ]
  },
  {
   "cell_type": "code",
   "execution_count": 72,
   "id": "a36332a5",
   "metadata": {},
   "outputs": [
    {
     "data": {
      "text/plain": [
       "[{'label': 'POSITIVE', 'score': 0.9998791217803955}]"
      ]
     },
     "execution_count": 72,
     "metadata": {},
     "output_type": "execute_result"
    }
   ],
   "source": [
    "sent_pipeline('Make sure to love all the people around')"
   ]
  },
  {
   "cell_type": "code",
   "execution_count": 73,
   "id": "4500aeea",
   "metadata": {},
   "outputs": [
    {
     "data": {
      "text/plain": [
       "[{'label': 'NEGATIVE', 'score': 0.9936267137527466}]"
      ]
     },
     "execution_count": 73,
     "metadata": {},
     "output_type": "execute_result"
    }
   ],
   "source": [
    "sent_pipeline('booo')"
   ]
  },
  {
   "cell_type": "code",
   "execution_count": 74,
   "id": "6568d0f6",
   "metadata": {},
   "outputs": [
    {
     "data": {
      "text/plain": [
       "[{'label': 'NEGATIVE', 'score': 0.9997017979621887}]"
      ]
     },
     "execution_count": 74,
     "metadata": {},
     "output_type": "execute_result"
    }
   ],
   "source": [
    "sent_pipeline('cringe')"
   ]
  },
  {
   "cell_type": "code",
   "execution_count": 75,
   "id": "c8b8d474",
   "metadata": {},
   "outputs": [
    {
     "data": {
      "text/plain": [
       "[{'label': 'POSITIVE', 'score': 0.9987743496894836}]"
      ]
     },
     "execution_count": 75,
     "metadata": {},
     "output_type": "execute_result"
    }
   ],
   "source": [
    "sent_pipeline('Not a bad product')"
   ]
  },
  {
   "cell_type": "code",
   "execution_count": 89,
   "id": "4fbf4dec",
   "metadata": {},
   "outputs": [
    {
     "data": {
      "text/plain": [
       "[{'label': 'NEGATIVE', 'score': 0.9996610879898071}]"
      ]
     },
     "execution_count": 89,
     "metadata": {},
     "output_type": "execute_result"
    }
   ],
   "source": [
    "sent_pipeline('I loved using the dove shampoo but for some reasons it is making making my hair too smooth which is not a good thing')"
   ]
  },
  {
   "cell_type": "code",
   "execution_count": 90,
   "id": "62ef78ff",
   "metadata": {},
   "outputs": [
    {
     "data": {
      "text/plain": [
       "[{'label': 'NEGATIVE', 'score': 0.5180395245552063}]"
      ]
     },
     "execution_count": 90,
     "metadata": {},
     "output_type": "execute_result"
    }
   ],
   "source": [
    "sent_pipeline('The product had both pros and cons')"
   ]
  },
  {
   "cell_type": "code",
   "execution_count": 91,
   "id": "7c450d79",
   "metadata": {},
   "outputs": [
    {
     "data": {
      "text/plain": [
       "[{'label': 'NEGATIVE', 'score': 0.9992231130599976}]"
      ]
     },
     "execution_count": 91,
     "metadata": {},
     "output_type": "execute_result"
    }
   ],
   "source": [
    "sent_pipeline('It is the least recommended product for anyone except for the people who are suffering with high fat')"
   ]
  },
  {
   "cell_type": "code",
   "execution_count": 93,
   "id": "22a92e31",
   "metadata": {},
   "outputs": [
    {
     "name": "stdout",
     "output_type": "stream",
     "text": [
      "Review:it is a bad product for humans\n",
      "Sentiment Analysis: [{'label': 'NEGATIVE', 'score': 0.9998083710670471}]\n"
     ]
    }
   ],
   "source": [
    "a=input(\"Review:\")\n",
    "print(\"Sentiment Analysis:\",sent_pipeline(a))"
   ]
  },
  {
   "cell_type": "code",
   "execution_count": 94,
   "id": "4a8a24f2",
   "metadata": {},
   "outputs": [
    {
     "name": "stdout",
     "output_type": "stream",
     "text": [
      "Review:s you get older, you know what you like and what is suitable for your body. I like all Dove products. Gives you that fresh all over, wide awake feeling and no dandruff or flakey skin. No smelly a/pits!\n",
      "Sentiment Analysis: [{'label': 'POSITIVE', 'score': 0.992506206035614}]\n"
     ]
    }
   ],
   "source": [
    "a=input(\"Review:\")\n",
    "print(\"Sentiment Analysis:\",sent_pipeline(a))"
   ]
  },
  {
   "cell_type": "code",
   "execution_count": 97,
   "id": "1e88bfd2",
   "metadata": {},
   "outputs": [
    {
     "name": "stdout",
     "output_type": "stream",
     "text": [
      "Review:Excellent\n",
      "Sentiment Analysis: [{'label': 'POSITIVE', 'score': 0.9998434782028198}]\n"
     ]
    }
   ],
   "source": [
    "a=input(\"Review:\")\n",
    "print(\"Sentiment Analysis:\",sent_pipeline(a))"
   ]
  },
  {
   "cell_type": "code",
   "execution_count": 107,
   "id": "876ef0dc",
   "metadata": {},
   "outputs": [
    {
     "name": "stdout",
     "output_type": "stream",
     "text": [
      "Review:bad\n",
      "Sentiment Analysis: [{'label': 'NEGATIVE', 'score': 0.999782383441925}]\n"
     ]
    }
   ],
   "source": [
    "a= input(\"Review:\")\n",
    "print(\"Sentiment Analysis:\",sent_pipeline(a))"
   ]
  },
  {
   "cell_type": "code",
   "execution_count": 109,
   "id": "ef20a336",
   "metadata": {},
   "outputs": [
    {
     "name": "stdout",
     "output_type": "stream",
     "text": [
      "Number of comments:5\n",
      "Review:great product for daily use\n",
      "Sentiment Analysis: [{'label': 'POSITIVE', 'score': 0.9997887015342712}]\n",
      "Review:not as remarkable as expected\n",
      "Sentiment Analysis: [{'label': 'NEGATIVE', 'score': 0.9997592568397522}]\n",
      "Review:Fine \n",
      "Sentiment Analysis: [{'label': 'POSITIVE', 'score': 0.9998335838317871}]\n",
      "Review:Average product \n",
      "Sentiment Analysis: [{'label': 'NEGATIVE', 'score': 0.9676812291145325}]\n",
      "Review:excellent product for teenagers who wants to reach higher positions\n",
      "Sentiment Analysis: [{'label': 'POSITIVE', 'score': 0.9996830224990845}]\n"
     ]
    }
   ],
   "source": [
    "n = int(input(\"Number of comments:\"))\n",
    "for i in range(n):\n",
    "    a=input(\"Review:\")\n",
    "    print(\"Sentiment Analysis:\",sent_pipeline(a))"
   ]
  },
  {
   "cell_type": "code",
   "execution_count": 110,
   "id": "38823f29",
   "metadata": {},
   "outputs": [
    {
     "name": "stdout",
     "output_type": "stream",
     "text": [
      "Number of comments:3\n",
      "Review:great work \n",
      "Sentiment Analysis: [{'label': 'POSITIVE', 'score': 0.9998679161071777}]\n",
      "Review:wanted to use it for an year but stopped after a week\n",
      "Sentiment Analysis: [{'label': 'NEGATIVE', 'score': 0.9975029826164246}]\n",
      "Review:recommended product\n",
      "Sentiment Analysis: [{'label': 'POSITIVE', 'score': 0.9997091889381409}]\n"
     ]
    }
   ],
   "source": [
    "n = int(input(\"Number of comments:\"))\n",
    "for i in range(n):\n",
    "    a=input(\"Review:\")\n",
    "    print(\"Sentiment Analysis:\",sent_pipeline(a))"
   ]
  },
  {
   "cell_type": "code",
   "execution_count": null,
   "id": "0c3b906f",
   "metadata": {},
   "outputs": [],
   "source": []
  }
 ],
 "metadata": {
  "kernelspec": {
   "display_name": "Python 3 (ipykernel)",
   "language": "python",
   "name": "python3"
  },
  "language_info": {
   "codemirror_mode": {
    "name": "ipython",
    "version": 3
   },
   "file_extension": ".py",
   "mimetype": "text/x-python",
   "name": "python",
   "nbconvert_exporter": "python",
   "pygments_lexer": "ipython3",
   "version": "3.11.5"
  }
 },
 "nbformat": 4,
 "nbformat_minor": 5
}
